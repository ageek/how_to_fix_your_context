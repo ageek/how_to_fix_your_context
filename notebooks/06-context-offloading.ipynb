{
 "cells": [
  {
   "cell_type": "markdown",
   "metadata": {},
   "source": "# Context Offloading\n\n## Background from Drew's Post\n\nContext offloading involves storing information outside the LLM's primary context to create a \"scratchpad\" for notes and intermediate thinking. Drew Breunig highlights Anthropic's research on this technique:\n\n- **Anthropic's \"think\" tool** serves as a scratchpad for complex reasoning\n- **Performance improvements up to 54%** in certain scenarios\n- **Useful for tool output analysis, policy-heavy environments, and sequential decision making**\n- **Reduces primary context load** while maintaining access to important information\n\nKey insights from Drew's research:\n- External scratchpads allow agents to save useful information during sessions\n- Can be implemented as tool calls that write to files or as state object fields\n- Essential for managing complex multi-step processes\n- Helps maintain context quality while reducing token usage\n\n## Context Offloading in Practice\n\nWhen humans solve tasks, we take notes and remember things for future, related tasks. Agents are also gaining these capabilities! Note-taking via a \"[scratchpad](https://www.anthropic.com/engineering/claude-think-tool)\" is one approach to persist information while an agent is performing a task. The central idea is to save information outside of the context window so that it's available to the agent on-demand. [Anthropic's multi-agent researcher](https://www.anthropic.com/engineering/built-multi-agent-research-system) illustrates a clear example of this:\n\n> The LeadResearcher begins by thinking through the approach and saving its plan to Memory to persist the context, since if the context window exceeds 200,000 tokens it will be truncated and it is important to retain the plan.\n\nIt's worth noting that this scratchpad can be implemented in a few different ways. It could be a [tool call](https://www.anthropic.com/engineering/claude-think-tool) that [writes to a file](https://github.com/modelcontextprotocol/servers/tree/main/src/filesystem). It could also just be a field in a runtime [state object](https://langchain-ai.github.io/langgraph/concepts/low_level/#state) that persists during the session. In either case, the intuition is clear: scratchpads let agents save useful information during a session to help them accomplish tasks.\n\n### Scratchpad writing in LangGraph\n\nLangGraph was designed with first-class support of both thread-scoped ([short-term](https://langchain-ai.github.io/langgraph/concepts/memory/#short-term-memory)) and [long-term memory](https://langchain-ai.github.io/langgraph/concepts/memory/#long-term-memory). Short-term memory uses [checkpointing](https://langchain-ai.github.io/langgraph/concepts/persistence/) to persist [agent state](https://langchain-ai.github.io/langgraph/concepts/low_level/#state) across all steps of an agent session. This is extremely useful as s \"scratchpad\", allowing you to write information to state during agent execution and fetch it later as needed.\n\nThe state object in LangGraph serves as the central data structure that gets passed between nodes in your graph. You can decide the schema for this state object, but it's common to use a Python dictionary. The state acts as a shared scratchpad; each node can read from and write to specific fields. Let's create `TypedDict` a state object."
  },
  {
   "cell_type": "code",
   "execution_count": null,
   "metadata": {},
   "outputs": [],
   "source": [
    "from typing import TypedDict\n",
    "\n",
    "from rich.console import Console\n",
    "from rich.pretty import pprint\n",
    "\n",
    "# Initialize console for rich formatting\n",
    "console = Console()\n",
    "\n",
    "# Define a graph state with two fields\n",
    "class State(TypedDict):\n",
    "    \"\"\"State schema for the joke generator workflow.\n",
    "    \n",
    "    Attributes:\n",
    "        topic: The topic for joke generation\n",
    "        joke: The generated joke content\n",
    "    \"\"\"\n",
    "    topic: str\n",
    "    joke: str"
   ]
  },
  {
   "cell_type": "markdown",
   "metadata": {},
   "source": "## State-Based Scratchpads\n\nOnce we've defined a state object, we can use it as a scratchpad. A [StateGraph](https://langchain-ai.github.io/langgraph/concepts/low_level/#stategraph) is LangGraph's primary abstraction for building stateful workflows where each node can read from and modify shared state.\n\n**Key concepts:**\n- **Nodes** are processing steps that receive current state and return updates\n- **Edges** connect nodes to create execution flow (linear, conditional, or cyclical)\n- **State** serves as a shared scratchpad between nodes\n\nThe mechanism for selecting context depends on implementation:\n- **Tool-based**: Agent reads scratchpad via tool calls\n- **State-based**: Developer controls what state parts are exposed to agents\n\nThis provides fine-grained control over context presentation to LLM calls."
  },
  {
   "cell_type": "code",
   "execution_count": 2,
   "metadata": {},
   "outputs": [],
   "source": [
    "from typing import TypedDict\n",
    "\n",
    "from rich.console import Console\n",
    "from rich.pretty import pprint\n",
    "\n",
    "# Initialize console for rich formatting\n",
    "console = Console()\n",
    "\n",
    "# Define a graph state with two fields\n",
    "class State(TypedDict):\n",
    "    \"\"\"State schema for the joke generator workflow.\n",
    "    \n",
    "    Attributes:\n",
    "        topic: The topic for joke generation\n",
    "        joke: The generated joke content\n",
    "    \"\"\"\n",
    "    topic: str\n",
    "    joke: str"
   ]
  },
  {
   "cell_type": "code",
   "execution_count": 17,
   "metadata": {},
   "outputs": [
    {
     "data": {
      "image/png": "[encoded data removed]",
      "text/plain": [
       "<IPython.core.display.Image object>"
      ]
     },
     "metadata": {},
     "output_type": "display_data"
    }
   ],
   "source": [
    "import getpass\n",
    "import os\n",
    "\n",
    "from IPython.display import Image, display\n",
    "from langchain.chat_models import init_chat_model\n",
    "from langgraph.graph import END, START, StateGraph\n",
    "\n",
    "\n",
    "def _set_env(var: str) -> None:\n",
    "    \"\"\"Set environment variable if not already set.\"\"\"\n",
    "    if not os.environ.get(var):\n",
    "        os.environ[var] = getpass.getpass(f\"{var}: \")\n",
    "\n",
    "\n",
    "# Set up environment and initialize model\n",
    "_set_env(\"ANTHROPIC_API_KEY\")\n",
    "llm = init_chat_model(\"anthropic:claude-sonnet-4-20250514\", temperature=0)\n",
    "\n",
    "\n",
    "def generate_joke(state: State) -> dict[str, str]:\n",
    "    \"\"\"Generate an initial joke about the topic.\n",
    "    \n",
    "    Args:\n",
    "        state: Current state containing the topic\n",
    "        \n",
    "    Returns:\n",
    "        Dictionary with the generated joke\n",
    "    \"\"\"\n",
    "    msg = llm.invoke(f\"Write a short joke about {state['topic']}\")\n",
    "    return {\"joke\": msg.content}\n",
    "\n",
    "\n",
    "def improve_joke(state: State) -> dict[str, str]:\n",
    "    \"\"\"Improve an existing joke by adding wordplay.\n",
    "    \n",
    "    This demonstrates selecting context from state - we read the existing\n",
    "    joke from state and use it to generate an improved version.\n",
    "    \n",
    "    Args:\n",
    "        state: Current state containing the original joke\n",
    "        \n",
    "    Returns:\n",
    "        Dictionary with the improved joke\n",
    "    \"\"\"\n",
    "    print(f\"Initial joke: {state['joke']}\")\n",
    "    \n",
    "    # Select the joke from state to present it to the LLM\n",
    "    msg = llm.invoke(f\"Make this joke funnier by adding wordplay: {state['joke']}\")\n",
    "    return {\"improved_joke\": msg.content}\n",
    "\n",
    "\n",
    "# Build the workflow with two sequential nodes\n",
    "workflow = StateGraph(State)\n",
    "\n",
    "# Add both joke generation nodes\n",
    "workflow.add_node(\"generate_joke\", generate_joke)\n",
    "workflow.add_node(\"improve_joke\", improve_joke)\n",
    "\n",
    "# Connect nodes in sequence\n",
    "workflow.add_edge(START, \"generate_joke\")\n",
    "workflow.add_edge(\"generate_joke\", \"improve_joke\")\n",
    "workflow.add_edge(\"improve_joke\", END)\n",
    "\n",
    "# Compile the workflow\n",
    "chain = workflow.compile()\n",
    "\n",
    "# Display the workflow visualization\n",
    "display(Image(chain.get_graph().draw_mermaid_png()))"
   ]
  },
  {
   "cell_type": "code",
   "execution_count": 18,
   "metadata": {},
   "outputs": [
    {
     "name": "stdout",
     "output_type": "stream",
     "text": [
      "Initial joke: Why don't cats ever win races?\n",
      "\n",
      "Because they always paws right before the finish line!\n"
     ]
    },
    {
     "data": {
      "text/html": [
       "<pre style=\"white-space:pre;overflow-x:auto;line-height:normal;font-family:Menlo,'DejaVu Sans Mono',consolas,'Courier New',monospace\">\n",
       "<span style=\"color: #000080; text-decoration-color: #000080; font-weight: bold\">Final Workflow State:</span>\n",
       "</pre>\n"
      ],
      "text/plain": [
       "\n",
       "\u001b[1;34mFinal Workflow State:\u001b[0m\n"
      ]
     },
     "metadata": {},
     "output_type": "display_data"
    },
    {
     "data": {
      "text/html": [
       "<pre style=\"white-space:pre;overflow-x:auto;line-height:normal;font-family:Menlo,'DejaVu Sans Mono',consolas,'Courier New',monospace\"><span style=\"font-weight: bold\">{</span>\n",
       "<span style=\"color: #7fbf7f; text-decoration-color: #7fbf7f\">│   </span><span style=\"color: #008000; text-decoration-color: #008000\">'topic'</span>: <span style=\"color: #008000; text-decoration-color: #008000\">'cats'</span>,\n",
       "<span style=\"color: #7fbf7f; text-decoration-color: #7fbf7f\">│   </span><span style=\"color: #008000; text-decoration-color: #008000\">'joke'</span>: <span style=\"color: #008000; text-decoration-color: #008000\">\"Why don't cats ever win races?\\n\\nBecause they always paws right before the finish line!\"</span>\n",
       "<span style=\"font-weight: bold\">}</span>\n",
       "</pre>\n"
      ],
      "text/plain": [
       "\u001b[1m{\u001b[0m\n",
       "\u001b[2;32m│   \u001b[0m\u001b[32m'topic'\u001b[0m: \u001b[32m'cats'\u001b[0m,\n",
       "\u001b[2;32m│   \u001b[0m\u001b[32m'joke'\u001b[0m: \u001b[32m\"Why don't cats ever win races?\\n\\nBecause they always paws right before the finish line!\"\u001b[0m\n",
       "\u001b[1m}\u001b[0m\n"
      ]
     },
     "metadata": {},
     "output_type": "display_data"
    }
   ],
   "source": [
    "# Execute the workflow to see context selection in action\n",
    "joke_generator_state = chain.invoke({\"topic\": \"cats\"})\n",
    "\n",
    "# Display the final state with rich formatting\n",
    "console.print(\"\\n[bold blue]Final Workflow State:[/bold blue]\")\n",
    "pprint(joke_generator_state)"
   ]
  },
  {
   "cell_type": "markdown",
   "metadata": {},
   "source": [
    "## Memory \n",
    "\n",
    "Scratchpads helps agents solve a task within a given session, but sometimes agents benefit from remembering things across *many* sessions! [Reflexion](https://arxiv.org/abs/2303.11366) introduced the idea of reflection following each agent turn and re-using these self-generated hints. [Generative Agents](https://ar5iv.labs.arxiv.org/html/2304.03442) created memories synthesized periodically from collections of past agent feedback.\n",
    "\n",
    "These concepts made their way into popular products like [ChatGPT](https://help.openai.com/en/articles/8590148-memory-faq), [Cursor](https://forum.cursor.com/t/0-51-memories-feature/98509), and [Windsurf](https://docs.windsurf.com/windsurf/cascade/memories), which all have mechanisms to auto-generate long-term memories based on user-agent interactions.\n",
    "\n",
    "### Memory writing in LangGraph\n",
    "\n",
    "Checkpointing saves the state of your graph at each step. These are saved to a [thread](https://langchain-ai.github.io/langgraph/concepts/persistence/). Each thread is referenced by a unique identifier and typically represents a single interaction with an agent. It it analogous to a single \"chat thread\" with ChatGPT, for example.\n",
    "\n",
    "LangGraph’s long-term memory allows you to persist specific context *across threads* with your agent. It is flexible, allowing you to save [individual files](https://langchain-ai.github.io/langgraph/concepts/memory/#profile) (e.g., a user profile) or [collections](https://langchain-ai.github.io/langgraph/concepts/memory/#collection) of memories. \n",
    "\n",
    "LangGraph’s long-term memory uses the [BaseStore](https://langchain-ai.github.io/langgraph/reference/store/) interface, which is a key-value store. It can be use in memory, as we show below in this notebook. It also can be used with [LangGraph Platform deployments](https://langchain-ai.github.io/langgraph/concepts/persistence/#langgraph-platform).\n",
    "\n",
    "Let's create an `InMemoryStore` for use across a few different sessions in our notebook."
   ]
  },
  {
   "cell_type": "code",
   "execution_count": 5,
   "metadata": {},
   "outputs": [],
   "source": [
    "from langgraph.store.memory import InMemoryStore\n",
    "\n",
    "# Initialize the in-memory store for long-term memory\n",
    "store = InMemoryStore()\n",
    "\n",
    "# Define namespace as a tuple (user_id, application_context)\n",
    "namespace = (\"rlm\", \"joke_generator\")\n",
    "\n",
    "# Write context as a key-value pair to the namespace\n",
    "store.put(\n",
    "    namespace,                             # namespace for organizing data\n",
    "    \"last_joke\",                          # key for this specific piece of data\n",
    "    {\"joke\": joke_generator_state[\"joke\"]} # value to store\n",
    ")"
   ]
  },
  {
   "cell_type": "markdown",
   "metadata": {},
   "source": [
    "We'll talk more about selecting context from the namespace in the next notebook.\n",
    "\n",
    "For now, we can just use the [search](https://langchain-ai.github.io/langgraph/reference/store/#langgraph.store.base.BaseStore.search) to view items within a namespace and see that we wrote to it."
   ]
  },
  {
   "cell_type": "code",
   "execution_count": 12,
   "metadata": {},
   "outputs": [
    {
     "data": {
      "text/html": [
       "<pre style=\"white-space:pre;overflow-x:auto;line-height:normal;font-family:Menlo,'DejaVu Sans Mono',consolas,'Courier New',monospace\">\n",
       "<span style=\"color: #008000; text-decoration-color: #008000; font-weight: bold\">Retrieved Context from Memory:</span>\n",
       "</pre>\n"
      ],
      "text/plain": [
       "\n",
       "\u001b[1;32mRetrieved Context from Memory:\u001b[0m\n"
      ]
     },
     "metadata": {},
     "output_type": "display_data"
    },
    {
     "data": {
      "text/html": [
       "<pre style=\"white-space:pre;overflow-x:auto;line-height:normal;font-family:Menlo,'DejaVu Sans Mono',consolas,'Courier New',monospace\"><span style=\"font-weight: bold\">{</span><span style=\"color: #008000; text-decoration-color: #008000\">'joke'</span>: <span style=\"color: #008000; text-decoration-color: #008000\">\"Why don't cats ever win races?\\n\\nBecause they always paws right before the finish line!\"</span><span style=\"font-weight: bold\">}</span>\n",
       "</pre>\n"
      ],
      "text/plain": [
       "\u001b[1m{\u001b[0m\u001b[32m'joke'\u001b[0m: \u001b[32m\"Why don't cats ever win races?\\n\\nBecause they always paws right before the finish line!\"\u001b[0m\u001b[1m}\u001b[0m\n"
      ]
     },
     "metadata": {},
     "output_type": "display_data"
    }
   ],
   "source": [
    "# Select (retrieve) the joke from memory\n",
    "retrieved_joke = store.get(namespace, \"last_joke\").value\n",
    "\n",
    "# Display the retrieved context\n",
    "console.print(\"\\n[bold green]Retrieved Context from Memory:[/bold green]\")\n",
    "pprint(retrieved_joke)"
   ]
  },
  {
   "cell_type": "markdown",
   "metadata": {},
   "source": [
    "Now, let's just embed what we did inside a LangGraph workflow.\n",
    "\n",
    "We compile our workflow with two arguments: \n",
    "\n",
    "* `checkpointer`: Save graph state at each step to a thread \n",
    "* `store`: Persist context across threads"
   ]
  },
  {
   "cell_type": "code",
   "execution_count": 13,
   "metadata": {},
   "outputs": [],
   "source": [
    "from langgraph.checkpoint.memory import InMemorySaver\n",
    "from langgraph.store.base import BaseStore\n",
    "from langgraph.store.memory import InMemoryStore\n",
    "\n",
    "# Initialize storage components\n",
    "checkpointer = InMemorySaver()\n",
    "memory_store = InMemoryStore()\n",
    "\n",
    "\n",
    "def generate_joke(state: State, store: BaseStore) -> dict[str, str]:\n",
    "    \"\"\"Generate a joke with memory-aware context selection.\n",
    "    \n",
    "    This function demonstrates selecting context from memory before\n",
    "    generating new content, ensuring consistency and avoiding duplication.\n",
    "    \n",
    "    Args:\n",
    "        state: Current state containing the topic\n",
    "        store: Memory store for persistent context\n",
    "        \n",
    "    Returns:\n",
    "        Dictionary with the generated joke\n",
    "    \"\"\"\n",
    "    # Select prior joke from memory if it exists\n",
    "    prior_joke = store.get(namespace, \"last_joke\")\n",
    "    if prior_joke:\n",
    "        prior_joke_text = prior_joke.value[\"joke\"]\n",
    "        print(f\"Prior joke: {prior_joke_text}\")\n",
    "    else:\n",
    "        print(\"Prior joke: None!\")\n",
    "\n",
    "    # Generate a new joke that differs from the prior one\n",
    "    prompt = (\n",
    "        f\"Write a short joke about {state['topic']}, \"\n",
    "        f\"but make it different from any prior joke you've written: {prior_joke_text if prior_joke else 'None'}\"\n",
    "    )\n",
    "    msg = llm.invoke(prompt)\n",
    "\n",
    "    # Store the new joke in memory for future context selection\n",
    "    store.put(namespace, \"last_joke\", {\"joke\": msg.content})\n",
    "\n",
    "    return {\"joke\": msg.content}\n",
    "\n",
    "\n",
    "# Build the memory-aware workflow\n",
    "workflow = StateGraph(State)\n",
    "workflow.add_node(\"generate_joke\", generate_joke)\n",
    "\n",
    "# Connect the workflow\n",
    "workflow.add_edge(START, \"generate_joke\")\n",
    "workflow.add_edge(\"generate_joke\", END)\n",
    "\n",
    "# Compile with both checkpointing and memory store\n",
    "chain = workflow.compile(checkpointer=checkpointer, store=memory_store)"
   ]
  },
  {
   "cell_type": "code",
   "execution_count": 14,
   "metadata": {},
   "outputs": [
    {
     "name": "stdout",
     "output_type": "stream",
     "text": [
      "Prior joke: None!\n"
     ]
    }
   ],
   "source": [
    "# Execute the workflow with the first thread\n",
    "config = {\"configurable\": {\"thread_id\": \"1\"}}\n",
    "joke_generator_state = chain.invoke({\"topic\": \"cats\"}, config)"
   ]
  },
  {
   "cell_type": "code",
   "execution_count": 8,
   "metadata": {},
   "outputs": [
    {
     "name": "stdout",
     "output_type": "stream",
     "text": [
      "Existing joke: No existing joke\n"
     ]
    },
    {
     "data": {
      "text/html": [
       "<pre style=\"white-space:pre;overflow-x:auto;line-height:normal;font-family:Menlo,'DejaVu Sans Mono',consolas,'Courier New',monospace\">\n",
       "<span style=\"color: #008080; text-decoration-color: #008080; font-weight: bold\">Workflow Result (Thread </span><span style=\"color: #008080; text-decoration-color: #008080; font-weight: bold\">1</span><span style=\"color: #008080; text-decoration-color: #008080; font-weight: bold\">):</span>\n",
       "</pre>\n"
      ],
      "text/plain": [
       "\n",
       "\u001b[1;36mWorkflow Result \u001b[0m\u001b[1;36m(\u001b[0m\u001b[1;36mThread \u001b[0m\u001b[1;36m1\u001b[0m\u001b[1;36m)\u001b[0m\u001b[1;36m:\u001b[0m\n"
      ]
     },
     "metadata": {},
     "output_type": "display_data"
    },
    {
     "data": {
      "text/html": [
       "<pre style=\"white-space:pre;overflow-x:auto;line-height:normal;font-family:Menlo,'DejaVu Sans Mono',consolas,'Courier New',monospace\"><span style=\"font-weight: bold\">{</span>\n",
       "<span style=\"color: #7fbf7f; text-decoration-color: #7fbf7f\">│   </span><span style=\"color: #008000; text-decoration-color: #008000\">'topic'</span>: <span style=\"color: #008000; text-decoration-color: #008000\">'cats'</span>,\n",
       "<span style=\"color: #7fbf7f; text-decoration-color: #7fbf7f\">│   </span><span style=\"color: #008000; text-decoration-color: #008000\">'joke'</span>: <span style=\"color: #008000; text-decoration-color: #008000\">\"Why don't cats ever win races?\\n\\nBecause they always paws right before the finish line!\"</span>\n",
       "<span style=\"font-weight: bold\">}</span>\n",
       "</pre>\n"
      ],
      "text/plain": [
       "\u001b[1m{\u001b[0m\n",
       "\u001b[2;32m│   \u001b[0m\u001b[32m'topic'\u001b[0m: \u001b[32m'cats'\u001b[0m,\n",
       "\u001b[2;32m│   \u001b[0m\u001b[32m'joke'\u001b[0m: \u001b[32m\"Why don't cats ever win races?\\n\\nBecause they always paws right before the finish line!\"\u001b[0m\n",
       "\u001b[1m}\u001b[0m\n"
      ]
     },
     "metadata": {},
     "output_type": "display_data"
    }
   ],
   "source": [
    "# Execute the workflow with thread-based configuration\n",
    "config = {\"configurable\": {\"thread_id\": \"1\"}}\n",
    "joke_generator_state = chain.invoke({\"topic\": \"cats\"}, config)\n",
    "\n",
    "# Display the workflow result with rich formatting\n",
    "console.print(\"\\n[bold cyan]Workflow Result (Thread 1):[/bold cyan]\")\n",
    "pprint(joke_generator_state)"
   ]
  },
  {
   "cell_type": "markdown",
   "metadata": {},
   "source": [
    "Because we compiled with a checkpointer, we can see the [latest state](https://langchain-ai.github.io/langgraph/concepts/persistence/#get-state) of the graph!"
   ]
  },
  {
   "cell_type": "code",
   "execution_count": 15,
   "metadata": {},
   "outputs": [
    {
     "data": {
      "text/html": [
       "<pre style=\"white-space:pre;overflow-x:auto;line-height:normal;font-family:Menlo,'DejaVu Sans Mono',consolas,'Courier New',monospace\">\n",
       "<span style=\"color: #800080; text-decoration-color: #800080; font-weight: bold\">Latest Graph State:</span>\n",
       "</pre>\n"
      ],
      "text/plain": [
       "\n",
       "\u001b[1;35mLatest Graph State:\u001b[0m\n"
      ]
     },
     "metadata": {},
     "output_type": "display_data"
    },
    {
     "data": {
      "text/html": [
       "<pre style=\"white-space:pre;overflow-x:auto;line-height:normal;font-family:Menlo,'DejaVu Sans Mono',consolas,'Courier New',monospace\"><span style=\"color: #800080; text-decoration-color: #800080; font-weight: bold\">StateSnapshot</span><span style=\"font-weight: bold\">(</span>\n",
       "<span style=\"color: #7fbf7f; text-decoration-color: #7fbf7f\">│   </span><span style=\"color: #808000; text-decoration-color: #808000\">values</span>=<span style=\"font-weight: bold\">{</span>\n",
       "<span style=\"color: #7fbf7f; text-decoration-color: #7fbf7f\">│   │   </span><span style=\"color: #008000; text-decoration-color: #008000\">'topic'</span>: <span style=\"color: #008000; text-decoration-color: #008000\">'cats'</span>,\n",
       "<span style=\"color: #7fbf7f; text-decoration-color: #7fbf7f\">│   │   </span><span style=\"color: #008000; text-decoration-color: #008000\">'joke'</span>: <span style=\"color: #008000; text-decoration-color: #008000\">\"Why don't cats ever win at poker?\\n\\nBecause they can't help but purr when they have a good hand!\"</span>\n",
       "<span style=\"color: #7fbf7f; text-decoration-color: #7fbf7f\">│   </span><span style=\"font-weight: bold\">}</span>,\n",
       "<span style=\"color: #7fbf7f; text-decoration-color: #7fbf7f\">│   </span><span style=\"color: #808000; text-decoration-color: #808000\">next</span>=<span style=\"font-weight: bold\">()</span>,\n",
       "<span style=\"color: #7fbf7f; text-decoration-color: #7fbf7f\">│   </span><span style=\"color: #808000; text-decoration-color: #808000\">config</span>=<span style=\"font-weight: bold\">{</span>\n",
       "<span style=\"color: #7fbf7f; text-decoration-color: #7fbf7f\">│   │   </span><span style=\"color: #008000; text-decoration-color: #008000\">'configurable'</span>: <span style=\"font-weight: bold\">{</span>\n",
       "<span style=\"color: #7fbf7f; text-decoration-color: #7fbf7f\">│   │   │   </span><span style=\"color: #008000; text-decoration-color: #008000\">'thread_id'</span>: <span style=\"color: #008000; text-decoration-color: #008000\">'1'</span>,\n",
       "<span style=\"color: #7fbf7f; text-decoration-color: #7fbf7f\">│   │   │   </span><span style=\"color: #008000; text-decoration-color: #008000\">'checkpoint_ns'</span>: <span style=\"color: #008000; text-decoration-color: #008000\">''</span>,\n",
       "<span style=\"color: #7fbf7f; text-decoration-color: #7fbf7f\">│   │   │   </span><span style=\"color: #008000; text-decoration-color: #008000\">'checkpoint_id'</span>: <span style=\"color: #008000; text-decoration-color: #008000\">'1f0636ed-67fc-6fca-8001-47c4eca91406'</span>\n",
       "<span style=\"color: #7fbf7f; text-decoration-color: #7fbf7f\">│   │   </span><span style=\"font-weight: bold\">}</span>\n",
       "<span style=\"color: #7fbf7f; text-decoration-color: #7fbf7f\">│   </span><span style=\"font-weight: bold\">}</span>,\n",
       "<span style=\"color: #7fbf7f; text-decoration-color: #7fbf7f\">│   </span><span style=\"color: #808000; text-decoration-color: #808000\">metadata</span>=<span style=\"font-weight: bold\">{</span><span style=\"color: #008000; text-decoration-color: #008000\">'source'</span>: <span style=\"color: #008000; text-decoration-color: #008000\">'loop'</span>, <span style=\"color: #008000; text-decoration-color: #008000\">'step'</span>: <span style=\"color: #008080; text-decoration-color: #008080; font-weight: bold\">1</span>, <span style=\"color: #008000; text-decoration-color: #008000\">'parents'</span>: <span style=\"font-weight: bold\">{}}</span>,\n",
       "<span style=\"color: #7fbf7f; text-decoration-color: #7fbf7f\">│   </span><span style=\"color: #808000; text-decoration-color: #808000\">created_at</span>=<span style=\"color: #008000; text-decoration-color: #008000\">'2025-07-18T00:33:34.473820+00:00'</span>,\n",
       "<span style=\"color: #7fbf7f; text-decoration-color: #7fbf7f\">│   </span><span style=\"color: #808000; text-decoration-color: #808000\">parent_config</span>=<span style=\"font-weight: bold\">{</span>\n",
       "<span style=\"color: #7fbf7f; text-decoration-color: #7fbf7f\">│   │   </span><span style=\"color: #008000; text-decoration-color: #008000\">'configurable'</span>: <span style=\"font-weight: bold\">{</span>\n",
       "<span style=\"color: #7fbf7f; text-decoration-color: #7fbf7f\">│   │   │   </span><span style=\"color: #008000; text-decoration-color: #008000\">'thread_id'</span>: <span style=\"color: #008000; text-decoration-color: #008000\">'1'</span>,\n",
       "<span style=\"color: #7fbf7f; text-decoration-color: #7fbf7f\">│   │   │   </span><span style=\"color: #008000; text-decoration-color: #008000\">'checkpoint_ns'</span>: <span style=\"color: #008000; text-decoration-color: #008000\">''</span>,\n",
       "<span style=\"color: #7fbf7f; text-decoration-color: #7fbf7f\">│   │   │   </span><span style=\"color: #008000; text-decoration-color: #008000\">'checkpoint_id'</span>: <span style=\"color: #008000; text-decoration-color: #008000\">'1f0636ed-4ffc-61c8-8000-121bc404e313'</span>\n",
       "<span style=\"color: #7fbf7f; text-decoration-color: #7fbf7f\">│   │   </span><span style=\"font-weight: bold\">}</span>\n",
       "<span style=\"color: #7fbf7f; text-decoration-color: #7fbf7f\">│   </span><span style=\"font-weight: bold\">}</span>,\n",
       "<span style=\"color: #7fbf7f; text-decoration-color: #7fbf7f\">│   </span><span style=\"color: #808000; text-decoration-color: #808000\">tasks</span>=<span style=\"font-weight: bold\">()</span>,\n",
       "<span style=\"color: #7fbf7f; text-decoration-color: #7fbf7f\">│   </span><span style=\"color: #808000; text-decoration-color: #808000\">interrupts</span>=<span style=\"font-weight: bold\">()</span>\n",
       "<span style=\"font-weight: bold\">)</span>\n",
       "</pre>\n"
      ],
      "text/plain": [
       "\u001b[1;35mStateSnapshot\u001b[0m\u001b[1m(\u001b[0m\n",
       "\u001b[2;32m│   \u001b[0m\u001b[33mvalues\u001b[0m=\u001b[1m{\u001b[0m\n",
       "\u001b[2;32m│   │   \u001b[0m\u001b[32m'topic'\u001b[0m: \u001b[32m'cats'\u001b[0m,\n",
       "\u001b[2;32m│   │   \u001b[0m\u001b[32m'joke'\u001b[0m: \u001b[32m\"Why don't cats ever win at poker?\\n\\nBecause they can't help but purr when they have a good hand!\"\u001b[0m\n",
       "\u001b[2;32m│   \u001b[0m\u001b[1m}\u001b[0m,\n",
       "\u001b[2;32m│   \u001b[0m\u001b[33mnext\u001b[0m=\u001b[1m(\u001b[0m\u001b[1m)\u001b[0m,\n",
       "\u001b[2;32m│   \u001b[0m\u001b[33mconfig\u001b[0m=\u001b[1m{\u001b[0m\n",
       "\u001b[2;32m│   │   \u001b[0m\u001b[32m'configurable'\u001b[0m: \u001b[1m{\u001b[0m\n",
       "\u001b[2;32m│   │   │   \u001b[0m\u001b[32m'thread_id'\u001b[0m: \u001b[32m'1'\u001b[0m,\n",
       "\u001b[2;32m│   │   │   \u001b[0m\u001b[32m'checkpoint_ns'\u001b[0m: \u001b[32m''\u001b[0m,\n",
       "\u001b[2;32m│   │   │   \u001b[0m\u001b[32m'checkpoint_id'\u001b[0m: \u001b[32m'1f0636ed-67fc-6fca-8001-47c4eca91406'\u001b[0m\n",
       "\u001b[2;32m│   │   \u001b[0m\u001b[1m}\u001b[0m\n",
       "\u001b[2;32m│   \u001b[0m\u001b[1m}\u001b[0m,\n",
       "\u001b[2;32m│   \u001b[0m\u001b[33mmetadata\u001b[0m=\u001b[1m{\u001b[0m\u001b[32m'source'\u001b[0m: \u001b[32m'loop'\u001b[0m, \u001b[32m'step'\u001b[0m: \u001b[1;36m1\u001b[0m, \u001b[32m'parents'\u001b[0m: \u001b[1m{\u001b[0m\u001b[1m}\u001b[0m\u001b[1m}\u001b[0m,\n",
       "\u001b[2;32m│   \u001b[0m\u001b[33mcreated_at\u001b[0m=\u001b[32m'2025-07-18T00:33:34.473820+00:00'\u001b[0m,\n",
       "\u001b[2;32m│   \u001b[0m\u001b[33mparent_config\u001b[0m=\u001b[1m{\u001b[0m\n",
       "\u001b[2;32m│   │   \u001b[0m\u001b[32m'configurable'\u001b[0m: \u001b[1m{\u001b[0m\n",
       "\u001b[2;32m│   │   │   \u001b[0m\u001b[32m'thread_id'\u001b[0m: \u001b[32m'1'\u001b[0m,\n",
       "\u001b[2;32m│   │   │   \u001b[0m\u001b[32m'checkpoint_ns'\u001b[0m: \u001b[32m''\u001b[0m,\n",
       "\u001b[2;32m│   │   │   \u001b[0m\u001b[32m'checkpoint_id'\u001b[0m: \u001b[32m'1f0636ed-4ffc-61c8-8000-121bc404e313'\u001b[0m\n",
       "\u001b[2;32m│   │   \u001b[0m\u001b[1m}\u001b[0m\n",
       "\u001b[2;32m│   \u001b[0m\u001b[1m}\u001b[0m,\n",
       "\u001b[2;32m│   \u001b[0m\u001b[33mtasks\u001b[0m=\u001b[1m(\u001b[0m\u001b[1m)\u001b[0m,\n",
       "\u001b[2;32m│   \u001b[0m\u001b[33minterrupts\u001b[0m=\u001b[1m(\u001b[0m\u001b[1m)\u001b[0m\n",
       "\u001b[1m)\u001b[0m\n"
      ]
     },
     "metadata": {},
     "output_type": "display_data"
    }
   ],
   "source": [
    "# Get the latest state of the graph\n",
    "latest_state = chain.get_state(config)\n",
    "\n",
    "console.print(\"\\n[bold magenta]Latest Graph State:[/bold magenta]\")\n",
    "pprint(latest_state)"
   ]
  },
  {
   "cell_type": "code",
   "execution_count": 11,
   "metadata": {},
   "outputs": [
    {
     "name": "stdout",
     "output_type": "stream",
     "text": [
      "Existing joke: {'joke': \"Why don't cats ever win races?\\n\\nBecause they always paws right before the finish line!\"}\n"
     ]
    },
    {
     "data": {
      "text/html": [
       "<pre style=\"white-space:pre;overflow-x:auto;line-height:normal;font-family:Menlo,'DejaVu Sans Mono',consolas,'Courier New',monospace\">\n",
       "<span style=\"color: #808000; text-decoration-color: #808000; font-weight: bold\">Workflow Result (Thread </span><span style=\"color: #808000; text-decoration-color: #808000; font-weight: bold\">2</span><span style=\"color: #808000; text-decoration-color: #808000; font-weight: bold\">):</span>\n",
       "</pre>\n"
      ],
      "text/plain": [
       "\n",
       "\u001b[1;33mWorkflow Result \u001b[0m\u001b[1;33m(\u001b[0m\u001b[1;33mThread \u001b[0m\u001b[1;33m2\u001b[0m\u001b[1;33m)\u001b[0m\u001b[1;33m:\u001b[0m\n"
      ]
     },
     "metadata": {},
     "output_type": "display_data"
    },
    {
     "data": {
      "text/html": [
       "<pre style=\"white-space:pre;overflow-x:auto;line-height:normal;font-family:Menlo,'DejaVu Sans Mono',consolas,'Courier New',monospace\"><span style=\"font-weight: bold\">{</span>\n",
       "<span style=\"color: #7fbf7f; text-decoration-color: #7fbf7f\">│   </span><span style=\"color: #008000; text-decoration-color: #008000\">'topic'</span>: <span style=\"color: #008000; text-decoration-color: #008000\">'cats'</span>,\n",
       "<span style=\"color: #7fbf7f; text-decoration-color: #7fbf7f\">│   </span><span style=\"color: #008000; text-decoration-color: #008000\">'joke'</span>: <span style=\"color: #008000; text-decoration-color: #008000\">\"Why don't cats ever win races?\\n\\nBecause they always paws right before the finish line!\"</span>\n",
       "<span style=\"font-weight: bold\">}</span>\n",
       "</pre>\n"
      ],
      "text/plain": [
       "\u001b[1m{\u001b[0m\n",
       "\u001b[2;32m│   \u001b[0m\u001b[32m'topic'\u001b[0m: \u001b[32m'cats'\u001b[0m,\n",
       "\u001b[2;32m│   \u001b[0m\u001b[32m'joke'\u001b[0m: \u001b[32m\"Why don't cats ever win races?\\n\\nBecause they always paws right before the finish line!\"\u001b[0m\n",
       "\u001b[1m}\u001b[0m\n"
      ]
     },
     "metadata": {},
     "output_type": "display_data"
    }
   ],
   "source": [
    "# Execute the workflow with a different thread ID\n",
    "config = {\"configurable\": {\"thread_id\": \"2\"}}\n",
    "joke_generator_state = chain.invoke({\"topic\": \"cats\"}, config)\n",
    "\n",
    "# Display the result showing memory persistence across threads\n",
    "console.print(\"\\n[bold yellow]Workflow Result (Thread 2):[/bold yellow]\")\n",
    "pprint(joke_generator_state)"
   ]
  },
  {
   "cell_type": "markdown",
   "metadata": {},
   "source": [
    "We fetch the prior joke from memory and pass it to an LLM to improve it!"
   ]
  },
  {
   "cell_type": "code",
   "execution_count": 16,
   "metadata": {},
   "outputs": [
    {
     "name": "stdout",
     "output_type": "stream",
     "text": [
      "Prior joke: Why don't cats ever win at poker?\n",
      "\n",
      "Because they can't help but purr when they have a good hand!\n"
     ]
    }
   ],
   "source": [
    "# Execute the workflow with a second thread to demonstrate memory persistence\n",
    "config = {\"configurable\": {\"thread_id\": \"2\"}}\n",
    "joke_generator_state = chain.invoke({\"topic\": \"cats\"}, config)"
   ]
  },
  {
   "cell_type": "code",
   "execution_count": null,
   "metadata": {},
   "outputs": [],
   "source": []
  }
 ],
 "metadata": {
  "kernelspec": {
   "display_name": ".venv",
   "language": "python",
   "name": "python3"
  },
  "language_info": {
   "codemirror_mode": {
    "name": "ipython",
    "version": 3
   },
   "file_extension": ".py",
   "mimetype": "text/x-python",
   "name": "python",
   "nbconvert_exporter": "python",
   "pygments_lexer": "ipython3",
   "version": "3.11.6"
  }
 },
 "nbformat": 4,
 "nbformat_minor": 4
}